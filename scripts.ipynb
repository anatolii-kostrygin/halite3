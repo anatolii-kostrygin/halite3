{
 "cells": [
  {
   "cell_type": "code",
   "execution_count": 1,
   "metadata": {
    "collapsed": true
   },
   "outputs": [],
   "source": [
    "import os"
   ]
  },
  {
   "cell_type": "code",
   "execution_count": 4,
   "metadata": {
    "collapsed": false
   },
   "outputs": [
    {
     "data": {
      "text/plain": [
       "['errorlog-20181108-095329+0100-1541667209-32-32-0.log',\n",
       " 'errorlog-20181108-095329+0100-1541667209-32-32-1.log',\n",
       " 'README.md',\n",
       " 'replay-20181108-095329+0100-1541667209-32-32.hlt']"
      ]
     },
     "execution_count": 4,
     "metadata": {},
     "output_type": "execute_result"
    }
   ],
   "source": [
    "os.listdir('replays')"
   ]
  },
  {
   "cell_type": "code",
   "execution_count": 5,
   "metadata": {
    "collapsed": true
   },
   "outputs": [],
   "source": [
    "def purge_replays():\n",
    "    for file_name in os.listdir('replays'):\n",
    "        if 'replay' in file_name:\n",
    "            os.remove('replays/' + file_name)\n",
    "            \n",
    "            \n",
    "def purge_logs():\n",
    "    for file_name in os.listdir('replays'):\n",
    "        if 'errorlog' in file_name:\n",
    "            os.remove('replays/' + file_name)\n",
    "            \n",
    "            \n",
    "def purge():\n",
    "    purge_replays()\n",
    "    purge_logs()"
   ]
  },
  {
   "cell_type": "code",
   "execution_count": 6,
   "metadata": {
    "collapsed": true
   },
   "outputs": [],
   "source": [
    "purge()"
   ]
  },
  {
   "cell_type": "code",
   "execution_count": 7,
   "metadata": {
    "collapsed": false
   },
   "outputs": [
    {
     "data": {
      "text/plain": [
       "0"
      ]
     },
     "execution_count": 7,
     "metadata": {},
     "output_type": "execute_result"
    }
   ],
   "source": [
    "os.system('sh run_game.sh')"
   ]
  },
  {
   "cell_type": "code",
   "execution_count": 23,
   "metadata": {
    "collapsed": false
   },
   "outputs": [],
   "source": [
    "import json\n",
    "\n",
    "with open('replays/replay-20181108-100830+0100-42-32-32.hlt') as f:\n",
    "    data = json.load(f)"
   ]
  },
  {
   "cell_type": "code",
   "execution_count": 24,
   "metadata": {
    "collapsed": false
   },
   "outputs": [
    {
     "data": {
      "text/plain": [
       "dict_keys(['players', 'map_generator_seed', 'ENGINE_VERSION', 'REPLAY_FILE_VERSION', 'full_frames', 'number_of_players', 'GAME_CONSTANTS', 'game_statistics', 'production_map'])"
      ]
     },
     "execution_count": 24,
     "metadata": {},
     "output_type": "execute_result"
    }
   ],
   "source": [
    "data.keys()"
   ]
  },
  {
   "cell_type": "code",
   "execution_count": 31,
   "metadata": {
    "collapsed": false
   },
   "outputs": [
    {
     "data": {
      "text/plain": [
       "{'cells': [],\n",
       " 'deposited': {'0': 0, '1': 0},\n",
       " 'energy': {'0': 5000, '1': 5000},\n",
       " 'entities': {},\n",
       " 'events': [],\n",
       " 'moves': {}}"
      ]
     },
     "execution_count": 31,
     "metadata": {},
     "output_type": "execute_result"
    }
   ],
   "source": [
    "data['full_frames'][0]"
   ]
  },
  {
   "cell_type": "code",
   "execution_count": 32,
   "metadata": {
    "collapsed": false
   },
   "outputs": [
    {
     "data": {
      "text/plain": [
       "{'cells': [],\n",
       " 'deposited': {'0': 0, '1': 0},\n",
       " 'energy': {'0': 4000, '1': 4000},\n",
       " 'entities': {'0': {}, '1': {}},\n",
       " 'events': [{'energy': 0,\n",
       "   'id': 0,\n",
       "   'location': {'x': 23, 'y': 16},\n",
       "   'owner_id': 1,\n",
       "   'type': 'spawn'},\n",
       "  {'energy': 0,\n",
       "   'id': 1,\n",
       "   'location': {'x': 8, 'y': 16},\n",
       "   'owner_id': 0,\n",
       "   'type': 'spawn'}],\n",
       " 'moves': {'0': [{'type': 'g'}], '1': [{'type': 'g'}]}}"
      ]
     },
     "execution_count": 32,
     "metadata": {},
     "output_type": "execute_result"
    }
   ],
   "source": [
    "data['full_frames'][1]"
   ]
  },
  {
   "cell_type": "code",
   "execution_count": 33,
   "metadata": {
    "collapsed": false
   },
   "outputs": [
    {
     "data": {
      "text/plain": [
       "{'cells': [],\n",
       " 'deposited': {'0': 0, '1': 0},\n",
       " 'energy': {'0': 4000, '1': 4000},\n",
       " 'entities': {'0': {'1': {'energy': 0, 'is_inspired': False, 'x': 8, 'y': 16}},\n",
       "  '1': {'0': {'energy': 0, 'is_inspired': False, 'x': 23, 'y': 16}}},\n",
       " 'events': [],\n",
       " 'moves': {'0': [{'direction': 'n', 'id': 1, 'type': 'm'}],\n",
       "  '1': [{'direction': 's', 'id': 0, 'type': 'm'}]}}"
      ]
     },
     "execution_count": 33,
     "metadata": {},
     "output_type": "execute_result"
    }
   ],
   "source": [
    "data['full_frames'][2]"
   ]
  },
  {
   "cell_type": "code",
   "execution_count": 34,
   "metadata": {
    "collapsed": false
   },
   "outputs": [
    {
     "data": {
      "text/plain": [
       "{'cells': [{'production': 174, 'x': 8, 'y': 15},\n",
       "  {'production': 74, 'x': 23, 'y': 17}],\n",
       " 'deposited': {'0': 0, '1': 0},\n",
       " 'energy': {'0': 3000, '1': 3000},\n",
       " 'entities': {'0': {'1': {'energy': 0, 'is_inspired': False, 'x': 8, 'y': 15}},\n",
       "  '1': {'0': {'energy': 0, 'is_inspired': False, 'x': 23, 'y': 17}}},\n",
       " 'events': [{'energy': 0,\n",
       "   'id': 2,\n",
       "   'location': {'x': 23, 'y': 16},\n",
       "   'owner_id': 1,\n",
       "   'type': 'spawn'},\n",
       "  {'energy': 0,\n",
       "   'id': 3,\n",
       "   'location': {'x': 8, 'y': 16},\n",
       "   'owner_id': 0,\n",
       "   'type': 'spawn'}],\n",
       " 'moves': {'0': [{'direction': 'o', 'id': 1, 'type': 'm'}, {'type': 'g'}],\n",
       "  '1': [{'direction': 'e', 'id': 0, 'type': 'm'}, {'type': 'g'}]}}"
      ]
     },
     "execution_count": 34,
     "metadata": {},
     "output_type": "execute_result"
    }
   ],
   "source": [
    "data['full_frames'][3]"
   ]
  },
  {
   "cell_type": "code",
   "execution_count": 35,
   "metadata": {
    "collapsed": false
   },
   "outputs": [
    {
     "data": {
      "text/plain": [
       "{'cells': [{'production': 130, 'x': 8, 'y': 15}],\n",
       " 'deposited': {'0': 0, '1': 0},\n",
       " 'energy': {'0': 3000, '1': 3000},\n",
       " 'entities': {'0': {'1': {'energy': 59, 'is_inspired': False, 'x': 8, 'y': 15},\n",
       "   '3': {'energy': 0, 'is_inspired': False, 'x': 8, 'y': 16}},\n",
       "  '1': {'0': {'energy': 25, 'is_inspired': False, 'x': 23, 'y': 17},\n",
       "   '2': {'energy': 0, 'is_inspired': False, 'x': 23, 'y': 16}}},\n",
       " 'events': [],\n",
       " 'moves': {'0': [{'direction': 'o', 'id': 1, 'type': 'm'},\n",
       "   {'direction': 'e', 'id': 3, 'type': 'm'}],\n",
       "  '1': [{'direction': 'w', 'id': 0, 'type': 'm'},\n",
       "   {'direction': 'w', 'id': 2, 'type': 'm'}]}}"
      ]
     },
     "execution_count": 35,
     "metadata": {},
     "output_type": "execute_result"
    }
   ],
   "source": [
    "data['full_frames'][4]"
   ]
  },
  {
   "cell_type": "code",
   "execution_count": 36,
   "metadata": {
    "collapsed": false
   },
   "outputs": [
    {
     "data": {
      "text/plain": [
       "{'cells': [{'production': 97, 'x': 8, 'y': 15},\n",
       "  {'production': 141, 'x': 22, 'y': 16},\n",
       "  {'production': 93, 'x': 9, 'y': 16}],\n",
       " 'deposited': {'0': 0, '1': 0},\n",
       " 'energy': {'0': 2000, '1': 2000},\n",
       " 'entities': {'0': {'1': {'energy': 103,\n",
       "    'is_inspired': False,\n",
       "    'x': 8,\n",
       "    'y': 15},\n",
       "   '3': {'energy': 0, 'is_inspired': False, 'x': 9, 'y': 16}},\n",
       "  '1': {'0': {'energy': 18, 'is_inspired': False, 'x': 22, 'y': 17},\n",
       "   '2': {'energy': 0, 'is_inspired': False, 'x': 22, 'y': 16}}},\n",
       " 'events': [{'location': {'x': 22, 'y': 16},\n",
       "   'ships': [0, 2],\n",
       "   'type': 'shipwreck'},\n",
       "  {'energy': 0,\n",
       "   'id': 4,\n",
       "   'location': {'x': 23, 'y': 16},\n",
       "   'owner_id': 1,\n",
       "   'type': 'spawn'},\n",
       "  {'energy': 0,\n",
       "   'id': 5,\n",
       "   'location': {'x': 8, 'y': 16},\n",
       "   'owner_id': 0,\n",
       "   'type': 'spawn'}],\n",
       " 'moves': {'0': [{'direction': 'o', 'id': 1, 'type': 'm'},\n",
       "   {'direction': 'o', 'id': 3, 'type': 'm'},\n",
       "   {'type': 'g'}],\n",
       "  '1': [{'direction': 'n', 'id': 0, 'type': 'm'},\n",
       "   {'direction': 'o', 'id': 2, 'type': 'm'},\n",
       "   {'type': 'g'}]}}"
      ]
     },
     "execution_count": 36,
     "metadata": {},
     "output_type": "execute_result"
    }
   ],
   "source": [
    "data['full_frames'][5]"
   ]
  },
  {
   "cell_type": "code",
   "execution_count": 37,
   "metadata": {
    "collapsed": false
   },
   "outputs": [
    {
     "data": {
      "text/plain": [
       "{'cells': [{'production': 130, 'x': 23, 'y': 15}],\n",
       " 'deposited': {'0': 0, '1': 0},\n",
       " 'energy': {'0': 1000, '1': 1000},\n",
       " 'entities': {'0': {'1': {'energy': 156,\n",
       "    'is_inspired': False,\n",
       "    'x': 7,\n",
       "    'y': 15},\n",
       "   '3': {'energy': 19, 'is_inspired': False, 'x': 10, 'y': 15},\n",
       "   '5': {'energy': 10, 'is_inspired': False, 'x': 7, 'y': 16},\n",
       "   '7': {'energy': 0, 'is_inspired': False, 'x': 8, 'y': 16}},\n",
       "  '1': {'4': {'energy': 59, 'is_inspired': False, 'x': 23, 'y': 15},\n",
       "   '6': {'energy': 0, 'is_inspired': False, 'x': 23, 'y': 16}}},\n",
       " 'events': [],\n",
       " 'moves': {'0': [{'direction': 'e', 'id': 1, 'type': 'm'},\n",
       "   {'direction': 'e', 'id': 3, 'type': 'm'},\n",
       "   {'direction': 's', 'id': 5, 'type': 'm'},\n",
       "   {'direction': 'w', 'id': 7, 'type': 'm'}],\n",
       "  '1': [{'direction': 'o', 'id': 4, 'type': 'm'},\n",
       "   {'direction': 's', 'id': 6, 'type': 'm'}]}}"
      ]
     },
     "execution_count": 37,
     "metadata": {},
     "output_type": "execute_result"
    }
   ],
   "source": [
    "data['full_frames'][8]"
   ]
  },
  {
   "cell_type": "code",
   "execution_count": null,
   "metadata": {
    "collapsed": true
   },
   "outputs": [],
   "source": []
  }
 ],
 "metadata": {
  "kernelspec": {
   "display_name": "Python 3",
   "language": "python",
   "name": "python3"
  },
  "language_info": {
   "codemirror_mode": {
    "name": "ipython",
    "version": 3
   },
   "file_extension": ".py",
   "mimetype": "text/x-python",
   "name": "python",
   "nbconvert_exporter": "python",
   "pygments_lexer": "ipython3",
   "version": "3.5.2"
  }
 },
 "nbformat": 4,
 "nbformat_minor": 2
}
